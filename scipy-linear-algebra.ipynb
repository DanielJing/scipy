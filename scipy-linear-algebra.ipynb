{
 "cells": [
  {
   "cell_type": "code",
   "execution_count": 1,
   "id": "cebdae70-5f8a-447e-abd7-0f02069de90f",
   "metadata": {
    "tags": []
   },
   "outputs": [],
   "source": [
    "import numpy as np\n",
    "import scipy.linalg as sla"
   ]
  },
  {
   "cell_type": "code",
   "execution_count": 8,
   "id": "4aa99192-0fe0-469a-b0cd-92ce4c563167",
   "metadata": {
    "tags": []
   },
   "outputs": [
    {
     "data": {
      "text/plain": [
       "array([[1, 2, 4],\n",
       "       [5, 6, 7],\n",
       "       [8, 7, 9]])"
      ]
     },
     "execution_count": 8,
     "metadata": {},
     "output_type": "execute_result"
    }
   ],
   "source": [
    "a = np.array([[1, 2, 4], [5, 6, 7], [8, 7, 9]])\n",
    "a"
   ]
  },
  {
   "cell_type": "code",
   "execution_count": 9,
   "id": "a95f8a78-fd6a-45f7-be75-436fcc4e96fd",
   "metadata": {
    "tags": []
   },
   "outputs": [
    {
     "data": {
      "text/plain": [
       "array([[-0.2 , -0.4 ,  0.4 ],\n",
       "       [-0.44,  0.92, -0.52],\n",
       "       [ 0.52, -0.36,  0.16]])"
      ]
     },
     "execution_count": 9,
     "metadata": {},
     "output_type": "execute_result"
    }
   ],
   "source": [
    "sla.inv(a)"
   ]
  },
  {
   "cell_type": "code",
   "execution_count": 10,
   "id": "86f3950f-6df9-42e4-83d2-dfb03457ea8d",
   "metadata": {
    "tags": []
   },
   "outputs": [
    {
     "data": {
      "text/plain": [
       "(array([17.19489424+0.j, -1.94313023+0.j,  0.74823599+0.j]),\n",
       " array([[-0.26134635, -0.79866476,  0.32777091],\n",
       "        [-0.59296553, -0.02704881, -0.85310746],\n",
       "        [-0.76163637,  0.601168  ,  0.4059235 ]]))"
      ]
     },
     "execution_count": 10,
     "metadata": {},
     "output_type": "execute_result"
    }
   ],
   "source": [
    "sla.eig(a)"
   ]
  },
  {
   "cell_type": "code",
   "execution_count": 11,
   "id": "0b387879-2dc6-4461-a765-af1dda36988f",
   "metadata": {
    "tags": []
   },
   "outputs": [
    {
     "data": {
      "text/plain": [
       "array([17.19489424+0.j, -1.94313023+0.j,  0.74823599+0.j])"
      ]
     },
     "execution_count": 11,
     "metadata": {},
     "output_type": "execute_result"
    }
   ],
   "source": [
    "sla.eigvals(a)"
   ]
  },
  {
   "cell_type": "code",
   "execution_count": 12,
   "id": "91ee5f7a-f182-4bdf-8719-a5ee28e87d97",
   "metadata": {
    "tags": []
   },
   "outputs": [
    {
     "data": {
      "text/plain": [
       "-25.000000000000004"
      ]
     },
     "execution_count": 12,
     "metadata": {},
     "output_type": "execute_result"
    }
   ],
   "source": [
    "sla.det(a)"
   ]
  },
  {
   "cell_type": "code",
   "execution_count": 13,
   "id": "1e2d41de-54e8-4f8b-9487-0e08631550ff",
   "metadata": {
    "tags": []
   },
   "outputs": [
    {
     "data": {
      "text/plain": [
       "18.027756377319946"
      ]
     },
     "execution_count": 13,
     "metadata": {},
     "output_type": "execute_result"
    }
   ],
   "source": [
    "sla.norm(a)"
   ]
  },
  {
   "cell_type": "code",
   "execution_count": 15,
   "id": "75cdc615-65cf-4f21-ac5e-3766aa5b2a9a",
   "metadata": {
    "tags": []
   },
   "outputs": [
    {
     "data": {
      "text/plain": [
       "(array([[0., 0., 1.],\n",
       "        [0., 1., 0.],\n",
       "        [1., 0., 0.]]),\n",
       " array([[1.        , 0.        , 0.        ],\n",
       "        [0.625     , 1.        , 0.        ],\n",
       "        [0.125     , 0.69230769, 1.        ]]),\n",
       " array([[8.        , 7.        , 9.        ],\n",
       "        [0.        , 1.625     , 1.375     ],\n",
       "        [0.        , 0.        , 1.92307692]]))"
      ]
     },
     "execution_count": 15,
     "metadata": {},
     "output_type": "execute_result"
    }
   ],
   "source": [
    "sla.lu(a)"
   ]
  },
  {
   "cell_type": "code",
   "execution_count": 16,
   "id": "a4d64ba7-e823-46c0-8976-39093c10e422",
   "metadata": {
    "tags": []
   },
   "outputs": [
    {
     "data": {
      "text/plain": [
       "(array([[-0.23771972, -0.88811043, -0.39338175],\n",
       "        [-0.58419293, -0.1928339 ,  0.78837409],\n",
       "        [-0.77602059,  0.41722291, -0.47298742]]),\n",
       " array([17.91435476,  1.8769964 ,  0.74349046]),\n",
       " array([[-0.52286835, -0.5254301 , -0.67121673],\n",
       "        [ 0.79142579, -0.00674688, -0.61122803],\n",
       "        [-0.31662898,  0.85081002, -0.41936666]]))"
      ]
     },
     "execution_count": 16,
     "metadata": {},
     "output_type": "execute_result"
    }
   ],
   "source": [
    "sla.svd(a)"
   ]
  },
  {
   "cell_type": "code",
   "execution_count": 17,
   "id": "a1f3a07d-ebf4-4c95-a24a-7f02e48623b6",
   "metadata": {
    "tags": []
   },
   "outputs": [
    {
     "data": {
      "text/plain": [
       "array([[ 3985817.12929743,  4139576.66751154,  5481499.63191011],\n",
       "       [ 9043369.94065946,  9392237.25591003, 12436905.62067421],\n",
       "       [11615785.1278799 , 12063885.12692581, 15974622.75092574]])"
      ]
     },
     "execution_count": 17,
     "metadata": {},
     "output_type": "execute_result"
    }
   ],
   "source": [
    "sla.expm(a)"
   ]
  },
  {
   "cell_type": "code",
   "execution_count": 18,
   "id": "104fb2de-5c6e-4d2a-abab-87ef799773fa",
   "metadata": {
    "tags": []
   },
   "outputs": [
    {
     "data": {
      "text/plain": [
       "array([[0.83825634+2.31301963j, 0.55535257+0.3728953j ,\n",
       "        0.25609193-1.08399931j],\n",
       "       [0.98956194+0.07833629j, 0.7168211 +0.01262905j,\n",
       "        1.31701765-0.03671239j],\n",
       "       [0.71159361-1.74104764j, 1.20306922-0.28068438j,\n",
       "        1.66379839+0.81594398j]])"
      ]
     },
     "execution_count": 18,
     "metadata": {},
     "output_type": "execute_result"
    }
   ],
   "source": [
    "sla.logm(a)"
   ]
  },
  {
   "cell_type": "code",
   "execution_count": 19,
   "id": "683b3701-0d71-4ffd-b074-de0a63d1364d",
   "metadata": {
    "tags": []
   },
   "outputs": [
    {
     "data": {
      "text/plain": [
       "array([[-0.73407059, -0.42779986,  0.24301547],\n",
       "       [-0.55681255,  0.1373166 , -0.69164836],\n",
       "       [ 0.2296874 , -0.54516633, -0.65086521]])"
      ]
     },
     "execution_count": 19,
     "metadata": {},
     "output_type": "execute_result"
    }
   ],
   "source": [
    "sla.sinm(a)"
   ]
  },
  {
   "cell_type": "code",
   "execution_count": null,
   "id": "69231d65-1a20-4e35-942b-15a620b4449e",
   "metadata": {},
   "outputs": [],
   "source": []
  }
 ],
 "metadata": {
  "kernelspec": {
   "display_name": "Python 3 (ipykernel)",
   "language": "python",
   "name": "python3"
  },
  "language_info": {
   "codemirror_mode": {
    "name": "ipython",
    "version": 3
   },
   "file_extension": ".py",
   "mimetype": "text/x-python",
   "name": "python",
   "nbconvert_exporter": "python",
   "pygments_lexer": "ipython3",
   "version": "3.9.17"
  }
 },
 "nbformat": 4,
 "nbformat_minor": 5
}
